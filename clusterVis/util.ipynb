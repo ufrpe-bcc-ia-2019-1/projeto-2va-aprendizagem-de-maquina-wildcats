{
 "cells": [
  {
   "cell_type": "code",
   "execution_count": 48,
   "metadata": {},
   "outputs": [
    {
     "name": "stdout",
     "output_type": "stream",
     "text": [
      "         2         3         4         5         6         7         8   \\\n",
      "0  0.097602  0.061957  0.086707  0.102346  0.061957  0.066136  0.066013   \n",
      "1  0.097602  0.061957  0.079262  0.062976  0.130980  0.061957  0.066136   \n",
      "2  0.097602  0.060176  0.109931  0.129039  0.067388  0.086256  0.070428   \n",
      "3  0.080066  0.097602  0.061957  0.081344  0.061957  0.065816  0.065816   \n",
      "4  0.097602  0.075661  0.109931  0.065816  0.081344  0.070087  0.087467   \n",
      "5  0.080066  0.080066  0.130980  0.066136  0.066136  0.066136  0.095754   \n",
      "6  0.097602  0.044889  0.066136  0.065816  0.081344  0.087677  0.065816   \n",
      "7  0.097602  0.075661  0.075099  0.074614  0.085362  0.061957  0.096968   \n",
      "8  0.097602  0.087569  0.061957  0.130980  0.065816  0.065816  0.073261   \n",
      "9  0.080066  0.047535  0.082338  0.106719  0.112404  0.066136  0.091336   \n",
      "\n",
      "         9         10  \n",
      "0  0.065816  0.065816  \n",
      "1  0.065816  0.070087  \n",
      "2  0.066136  0.065816  \n",
      "3  0.066136  0.074771  \n",
      "4  0.066136  0.050595  \n",
      "5  0.098065  0.050595  \n",
      "6  0.070214  0.070087  \n",
      "7  0.074948  0.065816  \n",
      "8  0.068057  0.074771  \n",
      "9  0.065816  0.050595  \n"
     ]
    }
   ],
   "source": [
    "import pandas as pd\n",
    "import numpy as np\n",
    "\n",
    "\n",
    "\n",
    "wi = pd.read_csv('withNormilzation.csv')\n",
    "\n",
    "di = {}\n",
    "\n",
    "\n",
    "for group in range(2,11):\n",
    "    base_filtered = wi[wi['group'] == group]\n",
    "    di[group] = base_filtered['dunn'].values\n",
    "\n",
    "\n",
    "    \n",
    "df = pd.DataFrame(di)\n",
    "print(df)\n",
    "\n",
    "\n"
   ]
  }
 ],
 "metadata": {
  "kernelspec": {
   "display_name": "Python 3",
   "language": "python",
   "name": "python3"
  },
  "language_info": {
   "codemirror_mode": {
    "name": "ipython",
    "version": 3
   },
   "file_extension": ".py",
   "mimetype": "text/x-python",
   "name": "python",
   "nbconvert_exporter": "python",
   "pygments_lexer": "ipython3",
   "version": "3.7.1"
  }
 },
 "nbformat": 4,
 "nbformat_minor": 2
}
